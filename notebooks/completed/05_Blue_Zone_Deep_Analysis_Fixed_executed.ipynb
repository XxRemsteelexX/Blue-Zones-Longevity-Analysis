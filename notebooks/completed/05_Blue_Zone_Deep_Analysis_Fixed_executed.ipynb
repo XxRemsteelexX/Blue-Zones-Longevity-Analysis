{
 "cells": [
  {
   "cell_type": "markdown",
   "metadata": {},
   "source": [
    "# Deep Analysis: Blue Zones Analysis (Fixed Version)\n",
    "\n",
    "## Objective\n",
    "Compare the discovered blue zones with regular locations to understand:\n",
    "1. What makes them similar or different\n",
    "2. Geographic patterns and clustering\n",
    "3. Key characteristics that drive longevity\n",
    "4. Validation of our discovery algorithm\n",
    "\n",
    "## Data Sources\n",
    "- Discovered blue zones based on life expectancy\n",
    "- Regular locations for comparison\n",
    "- Traditional blue zones for reference"
   ]
  },
  {
   "cell_type": "code",
   "execution_count": 1,
   "metadata": {
    "execution": {
     "iopub.execute_input": "2025-09-06T20:54:55.404764Z",
     "iopub.status.busy": "2025-09-06T20:54:55.404701Z",
     "iopub.status.idle": "2025-09-06T20:54:56.062893Z",
     "shell.execute_reply": "2025-09-06T20:54:56.062606Z"
    }
   },
   "outputs": [
    {
     "name": "stdout",
     "output_type": "stream",
     "text": [
      "Deep Blue Zone Analysis - Ready\n"
     ]
    }
   ],
   "source": [
    "# setup and imports\n",
    "import pandas as pd\n",
    "import numpy as np\n",
    "import matplotlib.pyplot as plt\n",
    "import seaborn as sns\n",
    "from scipy import stats\n",
    "import plotly.express as px\n",
    "import plotly.graph_objects as go\n",
    "from plotly.subplots import make_subplots\n",
    "from sklearn.decomposition import PCA\n",
    "from sklearn.preprocessing import StandardScaler\n",
    "from sklearn.cluster import KMeans\n",
    "import warnings\n",
    "# Suppress specific warnings only when necessary\n",
    "# warnings.filterwarnings('ignore', category=DeprecationWarning)\n",
    "\n",
    "# set style with light blue background as per user preference\n",
    "plt.rcParams.update({\n",
    "    'figure.facecolor': '#E5ECF6',  # light blue background\n",
    "    'axes.facecolor': '#E5ECF6'\n",
    "})\n",
    "sns.set_palette('husl')\n",
    "\n",
    "print(\"Deep Blue Zone Analysis - Ready\")"
   ]
  },
  {
   "cell_type": "markdown",
   "metadata": {},
   "source": [
    "## 1. Load and Prepare Data"
   ]
  },
  {
   "cell_type": "code",
   "execution_count": 2,
   "metadata": {
    "execution": {
     "iopub.execute_input": "2025-09-06T20:54:56.076465Z",
     "iopub.status.busy": "2025-09-06T20:54:56.076290Z",
     "iopub.status.idle": "2025-09-06T20:54:56.087531Z",
     "shell.execute_reply": "2025-09-06T20:54:56.087331Z"
    }
   },
   "outputs": [
    {
     "name": "stdout",
     "output_type": "stream",
     "text": [
      "Loaded cross_section_final.csv successfully\n",
      "Dataset shape: (100, 19)\n",
      "Available columns: ['geo_id', 'year', 'latitude', 'longitude', 'elevation', 'is_blue_zone', 'life_expectancy', 'cvd_mortality', 'walkability_score', 'greenspace_pct', 'gdp_per_capita', 'population_density_log', 'temperature_mean', 'effective_gravity', 'gravity_deviation', 'gravity_deviation_pct', 'equatorial_distance', 'gravity_x_walkability_score', 'lifetime_gravity_exposure']\n",
      "\n",
      "Data Summary:\n",
      "Total locations: 100\n",
      "Discovered blue zones: 5\n",
      "Regular locations: 95\n",
      "Life expectancy range: 68.0 - 83.2 years\n",
      "\n",
      "Traditional Blue Zones:\n",
      "  Okinawa, Japan: 82.3 years\n",
      "  Sardinia, Italy: 82.0 years\n",
      "  Nicoya, Costa Rica: 82.5 years\n",
      "  Ikaria, Greece: 80.9 years\n",
      "  Loma Linda, USA: 81.2 years\n"
     ]
    },
    {
     "data": {
      "text/html": [
       "<div>\n",
       "<style scoped>\n",
       "    .dataframe tbody tr th:only-of-type {\n",
       "        vertical-align: middle;\n",
       "    }\n",
       "\n",
       "    .dataframe tbody tr th {\n",
       "        vertical-align: top;\n",
       "    }\n",
       "\n",
       "    .dataframe thead th {\n",
       "        text-align: right;\n",
       "    }\n",
       "</style>\n",
       "<table border=\"1\" class=\"dataframe\">\n",
       "  <thead>\n",
       "    <tr style=\"text-align: right;\">\n",
       "      <th></th>\n",
       "      <th>geo_id</th>\n",
       "      <th>year</th>\n",
       "      <th>latitude</th>\n",
       "      <th>longitude</th>\n",
       "      <th>elevation</th>\n",
       "      <th>is_blue_zone</th>\n",
       "      <th>life_expectancy</th>\n",
       "      <th>cvd_mortality</th>\n",
       "      <th>walkability_score</th>\n",
       "      <th>greenspace_pct</th>\n",
       "      <th>gdp_per_capita</th>\n",
       "      <th>population_density_log</th>\n",
       "      <th>temperature_mean</th>\n",
       "      <th>effective_gravity</th>\n",
       "      <th>gravity_deviation</th>\n",
       "      <th>gravity_deviation_pct</th>\n",
       "      <th>equatorial_distance</th>\n",
       "      <th>gravity_x_walkability_score</th>\n",
       "      <th>lifetime_gravity_exposure</th>\n",
       "    </tr>\n",
       "  </thead>\n",
       "  <tbody>\n",
       "    <tr>\n",
       "      <th>0</th>\n",
       "      <td>Ikaria</td>\n",
       "      <td>2000</td>\n",
       "      <td>37.600000</td>\n",
       "      <td>26.200000</td>\n",
       "      <td>400.000000</td>\n",
       "      <td>1</td>\n",
       "      <td>77.034782</td>\n",
       "      <td>89.730224</td>\n",
       "      <td>44.779804</td>\n",
       "      <td>31.985584</td>\n",
       "      <td>10751.682322</td>\n",
       "      <td>6.581022</td>\n",
       "      <td>-0.153410</td>\n",
       "      <td>9.804113</td>\n",
       "      <td>-0.002537</td>\n",
       "      <td>-0.025866</td>\n",
       "      <td>37.600000</td>\n",
       "      <td>-0.113589</td>\n",
       "      <td>-0.195408</td>\n",
       "    </tr>\n",
       "    <tr>\n",
       "      <th>1</th>\n",
       "      <td>Location_0</td>\n",
       "      <td>2000</td>\n",
       "      <td>-11.309785</td>\n",
       "      <td>162.257150</td>\n",
       "      <td>263.349139</td>\n",
       "      <td>0</td>\n",
       "      <td>73.556457</td>\n",
       "      <td>229.372358</td>\n",
       "      <td>62.706185</td>\n",
       "      <td>42.225009</td>\n",
       "      <td>40427.060038</td>\n",
       "      <td>5.910477</td>\n",
       "      <td>18.043350</td>\n",
       "      <td>9.801140</td>\n",
       "      <td>-0.005510</td>\n",
       "      <td>-0.056182</td>\n",
       "      <td>11.309785</td>\n",
       "      <td>-0.345483</td>\n",
       "      <td>-0.405263</td>\n",
       "    </tr>\n",
       "    <tr>\n",
       "      <th>2</th>\n",
       "      <td>Location_1</td>\n",
       "      <td>2000</td>\n",
       "      <td>17.825603</td>\n",
       "      <td>-123.833289</td>\n",
       "      <td>33.919258</td>\n",
       "      <td>0</td>\n",
       "      <td>73.180334</td>\n",
       "      <td>274.089453</td>\n",
       "      <td>40.672725</td>\n",
       "      <td>37.013731</td>\n",
       "      <td>36883.938232</td>\n",
       "      <td>6.108543</td>\n",
       "      <td>16.371264</td>\n",
       "      <td>9.802410</td>\n",
       "      <td>-0.004240</td>\n",
       "      <td>-0.043236</td>\n",
       "      <td>17.825603</td>\n",
       "      <td>-0.172451</td>\n",
       "      <td>-0.310282</td>\n",
       "    </tr>\n",
       "    <tr>\n",
       "      <th>3</th>\n",
       "      <td>Location_10</td>\n",
       "      <td>2000</td>\n",
       "      <td>18.980831</td>\n",
       "      <td>-118.611315</td>\n",
       "      <td>13.452786</td>\n",
       "      <td>0</td>\n",
       "      <td>72.721727</td>\n",
       "      <td>225.377479</td>\n",
       "      <td>24.051533</td>\n",
       "      <td>27.690897</td>\n",
       "      <td>9404.027810</td>\n",
       "      <td>5.537184</td>\n",
       "      <td>10.609583</td>\n",
       "      <td>9.802596</td>\n",
       "      <td>-0.004054</td>\n",
       "      <td>-0.041340</td>\n",
       "      <td>18.980831</td>\n",
       "      <td>-0.097506</td>\n",
       "      <td>-0.294816</td>\n",
       "    </tr>\n",
       "    <tr>\n",
       "      <th>4</th>\n",
       "      <td>Location_11</td>\n",
       "      <td>2000</td>\n",
       "      <td>63.355120</td>\n",
       "      <td>167.627532</td>\n",
       "      <td>330.466315</td>\n",
       "      <td>0</td>\n",
       "      <td>75.117067</td>\n",
       "      <td>189.629669</td>\n",
       "      <td>25.264498</td>\n",
       "      <td>30.098806</td>\n",
       "      <td>62181.870867</td>\n",
       "      <td>5.627728</td>\n",
       "      <td>3.005372</td>\n",
       "      <td>9.808672</td>\n",
       "      <td>0.002022</td>\n",
       "      <td>0.020620</td>\n",
       "      <td>63.355120</td>\n",
       "      <td>0.051089</td>\n",
       "      <td>0.151899</td>\n",
       "    </tr>\n",
       "  </tbody>\n",
       "</table>\n",
       "</div>"
      ],
      "text/plain": [
       "        geo_id  year   latitude   longitude   elevation  is_blue_zone  \\\n",
       "0       Ikaria  2000  37.600000   26.200000  400.000000             1   \n",
       "1   Location_0  2000 -11.309785  162.257150  263.349139             0   \n",
       "2   Location_1  2000  17.825603 -123.833289   33.919258             0   \n",
       "3  Location_10  2000  18.980831 -118.611315   13.452786             0   \n",
       "4  Location_11  2000  63.355120  167.627532  330.466315             0   \n",
       "\n",
       "   life_expectancy  cvd_mortality  walkability_score  greenspace_pct  \\\n",
       "0        77.034782      89.730224          44.779804       31.985584   \n",
       "1        73.556457     229.372358          62.706185       42.225009   \n",
       "2        73.180334     274.089453          40.672725       37.013731   \n",
       "3        72.721727     225.377479          24.051533       27.690897   \n",
       "4        75.117067     189.629669          25.264498       30.098806   \n",
       "\n",
       "   gdp_per_capita  population_density_log  temperature_mean  \\\n",
       "0    10751.682322                6.581022         -0.153410   \n",
       "1    40427.060038                5.910477         18.043350   \n",
       "2    36883.938232                6.108543         16.371264   \n",
       "3     9404.027810                5.537184         10.609583   \n",
       "4    62181.870867                5.627728          3.005372   \n",
       "\n",
       "   effective_gravity  gravity_deviation  gravity_deviation_pct  \\\n",
       "0           9.804113          -0.002537              -0.025866   \n",
       "1           9.801140          -0.005510              -0.056182   \n",
       "2           9.802410          -0.004240              -0.043236   \n",
       "3           9.802596          -0.004054              -0.041340   \n",
       "4           9.808672           0.002022               0.020620   \n",
       "\n",
       "   equatorial_distance  gravity_x_walkability_score  lifetime_gravity_exposure  \n",
       "0            37.600000                    -0.113589                  -0.195408  \n",
       "1            11.309785                    -0.345483                  -0.405263  \n",
       "2            17.825603                    -0.172451                  -0.310282  \n",
       "3            18.980831                    -0.097506                  -0.294816  \n",
       "4            63.355120                     0.051089                   0.151899  "
      ]
     },
     "execution_count": 2,
     "metadata": {},
     "output_type": "execute_result"
    }
   ],
   "source": [
    "# Load the available dataset - use REAL data only\n",
    "try:\n",
    "    df = pd.read_csv('../outputs/cross_section_final.csv')\n",
    "    print(f\"Loaded cross_section_final.csv successfully\")\n",
    "except FileNotFoundError:\n",
    "    try:\n",
    "        df = pd.read_csv('../outputs/final_processed_data.csv') \n",
    "        print(f\"Loaded final_processed_data.csv successfully\")\n",
    "    except FileNotFoundError:\n",
    "        try:\n",
    "            df = pd.read_csv('../outputs/comprehensive_panel_data.csv')\n",
    "            print(f\"Loaded comprehensive_panel_data.csv successfully\")\n",
    "        except FileNotFoundError:\n",
    "            raise FileNotFoundError(\"No real data files found. Run data processing scripts first.\")\n",
    "\n",
    "print(f\"Dataset shape: {df.shape}\")\n",
    "print(f\"Available columns: {list(df.columns)}\")\n",
    "\n",
    "# Check if we have the required columns and create blue zone classification\n",
    "if 'life_expectancy' in df.columns:\n",
    "    # Create is_blue_zone column if it doesn't exist\n",
    "    if 'is_blue_zone' not in df.columns:\n",
    "        # Define blue zones as top 2.5% of life expectancy\n",
    "        threshold = df['life_expectancy'].quantile(0.975)\n",
    "        df['is_blue_zone'] = (df['life_expectancy'] >= threshold).astype(int)\n",
    "        print(f\"Created blue zone classification with threshold: {threshold:.1f} years\")\n",
    "    \n",
    "    # Separate groups for analysis\n",
    "    discovered_bz = df[df['is_blue_zone'] == 1]\n",
    "    regular_locations = df[df['is_blue_zone'] == 0]\n",
    "    \n",
    "    print(f\"\\nData Summary:\")\n",
    "    print(f\"Total locations: {len(df):,}\")\n",
    "    print(f\"Discovered blue zones: {len(discovered_bz)}\")\n",
    "    print(f\"Regular locations: {len(regular_locations)}\")\n",
    "    print(f\"Life expectancy range: {df['life_expectancy'].min():.1f} - {df['life_expectancy'].max():.1f} years\")\n",
    "    \n",
    "    # Create traditional blue zones data using available columns\n",
    "    traditional_bz = pd.DataFrame({\n",
    "        'location': ['Okinawa, Japan', 'Sardinia, Italy', 'Nicoya, Costa Rica', 'Ikaria, Greece', 'Loma Linda, USA'],\n",
    "        'life_expectancy': [82.3, 82.0, 82.5, 80.9, 81.2],\n",
    "        'gdp_per_capita': [39000, 31000, 12000, 17000, 65000],\n",
    "        'walkability_score': [85, 75, 65, 70, 80],\n",
    "        'greenspace_pct': [45, 55, 65, 40, 35],\n",
    "        'temperature_mean': [22.5, 18.2, 26.8, 19.5, 21.3],\n",
    "        'latitude': [26.3, 40.1, 10.2, 37.6, 34.0],\n",
    "        'longitude': [127.9, 9.4, -85.4, 26.2, -117.3]\n",
    "    })\n",
    "    \n",
    "    print(f\"\\nTraditional Blue Zones:\")\n",
    "    for _, row in traditional_bz.iterrows():\n",
    "        print(f\"  {row['location']}: {row['life_expectancy']:.1f} years\")\n",
    "else:\n",
    "    print(\"Error: 'life_expectancy' column not found in dataset\")\n",
    "\n",
    "df.head()"
   ]
  },
  {
   "cell_type": "markdown",
   "metadata": {},
   "source": [
    "## 2. Life Expectancy Comparison"
   ]
  },
  {
   "cell_type": "code",
   "execution_count": 3,
   "metadata": {
    "execution": {
     "iopub.execute_input": "2025-09-06T20:54:56.088363Z",
     "iopub.status.busy": "2025-09-06T20:54:56.088296Z",
     "iopub.status.idle": "2025-09-06T20:54:56.093364Z",
     "shell.execute_reply": "2025-09-06T20:54:56.093179Z"
    }
   },
   "outputs": [
    {
     "name": "stdout",
     "output_type": "stream",
     "text": [
      "Life Expectancy Analysis\n",
      "==================================================\n",
      "\n",
      "Statistical Summary:\n",
      "----------------------------------------------------------------------\n",
      "Group                          Mean     Median   Std      Min      Max     \n",
      "----------------------------------------------------------------------\n",
      "Discovered Blue Zones (n=5)    78.2     77.9     1.1      77.0     80.0    \n",
      "Traditional Blue Zones (n=5)   81.8     82.0     0.7      80.9     82.5    \n",
      "Regular Locations (n=95)       75.4     75.3     3.2      68.0     83.2    \n",
      "\n",
      "Statistical Tests:\n",
      "----------------------------------------\n",
      "Discovered vs Traditional Blue Zones:\n",
      "  Mean difference: -3.6 years\n",
      "  T-test p-value: 0.000262\n",
      "  Significance: Significantly different\n",
      "\n",
      "Discovered Blue Zones vs Regular Locations:\n",
      "  Mean difference: 2.9 years\n",
      "  T-test p-value: 0.0467014176\n",
      "  Effect size: 0.91 standard deviations\n"
     ]
    }
   ],
   "source": [
    "# Comprehensive life expectancy analysis\n",
    "print(\"Life Expectancy Analysis\")\n",
    "print(\"=\" * 50)\n",
    "\n",
    "groups = {\n",
    "    f'Discovered Blue Zones (n={len(discovered_bz)})': discovered_bz['life_expectancy'],\n",
    "    f'Traditional Blue Zones (n={len(traditional_bz)})': traditional_bz['life_expectancy'], \n",
    "    f'Regular Locations (n={len(regular_locations)})': regular_locations['life_expectancy']\n",
    "}\n",
    "\n",
    "# Statistical summary\n",
    "print(\"\\nStatistical Summary:\")\n",
    "print(\"-\" * 70)\n",
    "print(f\"{'Group':<30} {'Mean':<8} {'Median':<8} {'Std':<8} {'Min':<8} {'Max':<8}\")\n",
    "print(\"-\" * 70)\n",
    "\n",
    "for group_name, data in groups.items():\n",
    "    print(f\"{group_name:<30} {data.mean():<8.1f} {data.median():<8.1f} {data.std():<8.1f} {data.min():<8.1f} {data.max():<8.1f}\")\n",
    "\n",
    "# Statistical tests\n",
    "print(\"\\nStatistical Tests:\")\n",
    "print(\"-\" * 40)\n",
    "\n",
    "# Discovered vs traditional blue zones\n",
    "t_stat, p_val = stats.ttest_ind(discovered_bz['life_expectancy'], traditional_bz['life_expectancy'])\n",
    "print(f\"Discovered vs Traditional Blue Zones:\")\n",
    "print(f\"  Mean difference: {discovered_bz['life_expectancy'].mean() - traditional_bz['life_expectancy'].mean():.1f} years\")\n",
    "print(f\"  T-test p-value: {p_val:.6f}\")\n",
    "print(f\"  Significance: {'Significantly different' if p_val < 0.05 else 'Not significantly different'}\")\n",
    "\n",
    "# Discovered vs regular locations\n",
    "t_stat2, p_val2 = stats.ttest_ind(discovered_bz['life_expectancy'], regular_locations['life_expectancy'])\n",
    "print(f\"\\nDiscovered Blue Zones vs Regular Locations:\")\n",
    "print(f\"  Mean difference: {discovered_bz['life_expectancy'].mean() - regular_locations['life_expectancy'].mean():.1f} years\")\n",
    "print(f\"  T-test p-value: {p_val2:.10f}\")\n",
    "print(f\"  Effect size: {(discovered_bz['life_expectancy'].mean() - regular_locations['life_expectancy'].mean()) / regular_locations['life_expectancy'].std():.2f} standard deviations\")"
   ]
  },
  {
   "cell_type": "markdown",
   "metadata": {},
   "source": [
    "## 3. Principal Component Analysis (Fixed)"
   ]
  },
  {
   "cell_type": "code",
   "execution_count": 4,
   "metadata": {
    "execution": {
     "iopub.execute_input": "2025-09-06T20:54:56.094139Z",
     "iopub.status.busy": "2025-09-06T20:54:56.094071Z",
     "iopub.status.idle": "2025-09-06T20:54:56.105310Z",
     "shell.execute_reply": "2025-09-06T20:54:56.105093Z"
    }
   },
   "outputs": [
    {
     "name": "stdout",
     "output_type": "stream",
     "text": [
      "Principal Component Analysis\n",
      "==================================================\n",
      "\n",
      "Using available features for PCA analysis:\n",
      "  - gdp_per_capita\n",
      "  - walkability_score\n",
      "  - greenspace_pct\n",
      "  - cvd_mortality\n",
      "  - population_density_log\n",
      "  - temperature_mean\n",
      "  - elevation\n",
      "\n",
      "Data shape after removing missing values: (100, 9)\n",
      "\n",
      "Explained Variance Ratio:\n",
      "  PC1: 0.194 (19.4%)\n",
      "  PC2: 0.164 (16.4%)\n",
      "  PC3: 0.153 (15.3%)\n",
      "  Total: 0.511 (51.1%)\n",
      "\n",
      "Feature Loadings (PC1 and PC2):\n",
      "----------------------------------------\n",
      "Feature                   PC1      PC2     \n",
      "----------------------------------------\n",
      "gdp_per_capita            -0.300   0.411   \n",
      "walkability_score         0.421    -0.424  \n",
      "greenspace_pct            -0.054   0.696   \n",
      "cvd_mortality             0.433    0.182   \n",
      "population_density_log    0.409    0.201   \n",
      "temperature_mean          0.567    0.236   \n",
      "elevation                 0.232    0.195   \n"
     ]
    }
   ],
   "source": [
    "# PCA to understand patterns in blue zones - FIXED VERSION\n",
    "print(\"Principal Component Analysis\")\n",
    "print(\"=\" * 50)\n",
    "\n",
    "# Use ACTUAL available columns from the dataset\n",
    "pca_features = ['gdp_per_capita', 'walkability_score', 'greenspace_pct', \n",
    "               'cvd_mortality', 'population_density_log', 'temperature_mean', 'elevation']\n",
    "\n",
    "# Check which features are actually available\n",
    "available_features = [f for f in pca_features if f in df.columns]\n",
    "print(f\"\\nUsing available features for PCA analysis:\")\n",
    "for feature in available_features:\n",
    "    print(f\"  - {feature}\")\n",
    "\n",
    "if not available_features:\n",
    "    print(\"\\nWarning: No PCA features available. Skipping PCA analysis.\")\n",
    "else:\n",
    "    # Combine all data for PCA\n",
    "    all_data = df[available_features + ['is_blue_zone', 'life_expectancy']].dropna()\n",
    "    print(f\"\\nData shape after removing missing values: {all_data.shape}\")\n",
    "    \n",
    "    if len(all_data) > 0:\n",
    "        # Standardize features\n",
    "        scaler = StandardScaler()\n",
    "        features_scaled = scaler.fit_transform(all_data[available_features])\n",
    "        \n",
    "        # Perform PCA\n",
    "        n_components = min(3, len(available_features))\n",
    "        pca = PCA(n_components=n_components)\n",
    "        pca_result = pca.fit_transform(features_scaled)\n",
    "        \n",
    "        # Explained variance\n",
    "        print(f\"\\nExplained Variance Ratio:\")\n",
    "        for i, var_ratio in enumerate(pca.explained_variance_ratio_):\n",
    "            print(f\"  PC{i+1}: {var_ratio:.3f} ({var_ratio*100:.1f}%)\")\n",
    "        print(f\"  Total: {pca.explained_variance_ratio_.sum():.3f} ({pca.explained_variance_ratio_.sum()*100:.1f}%)\")\n",
    "        \n",
    "        # Feature loadings\n",
    "        print(f\"\\nFeature Loadings (PC1 and PC2):\")\n",
    "        print(\"-\" * 40)\n",
    "        print(f\"{'Feature':<25} {'PC1':<8} {'PC2':<8}\")\n",
    "        print(\"-\" * 40)\n",
    "        for i, feature in enumerate(available_features):\n",
    "            pc1_loading = pca.components_[0][i] if len(pca.components_) > 0 else 0\n",
    "            pc2_loading = pca.components_[1][i] if len(pca.components_) > 1 else 0\n",
    "            print(f\"{feature:<25} {pc1_loading:<8.3f} {pc2_loading:<8.3f}\")\n",
    "        \n",
    "        # Add PCA results to dataframe for visualization\n",
    "        all_data['PC1'] = pca_result[:, 0]\n",
    "        if n_components > 1:\n",
    "            all_data['PC2'] = pca_result[:, 1]\n",
    "        if n_components > 2:\n",
    "            all_data['PC3'] = pca_result[:, 2]"
   ]
  },
  {
   "cell_type": "markdown",
   "metadata": {},
   "source": [
    "## 4. PCA Visualization with Light Blue Background"
   ]
  },
  {
   "cell_type": "code",
   "execution_count": 5,
   "metadata": {
    "execution": {
     "iopub.execute_input": "2025-09-06T20:54:56.106164Z",
     "iopub.status.busy": "2025-09-06T20:54:56.106096Z",
     "iopub.status.idle": "2025-09-06T20:54:56.599332Z",
     "shell.execute_reply": "2025-09-06T20:54:56.599115Z"
    }
   },
   "outputs": [
    {
     "data": {
      "image/png": "[encoded data removed]",
      "text/plain": [
       "<Figure size 1500x1200 with 5 Axes>"
      ]
     },
     "metadata": {},
     "output_type": "display_data"
    }
   ],
   "source": [
    "# Create PCA visualizations with light blue background\n",
    "if 'all_data' in locals() and len(all_data) > 0 and 'PC1' in all_data.columns:\n",
    "    fig, axes = plt.subplots(2, 2, figsize=(15, 12))\n",
    "    fig.patch.set_facecolor('#E5ECF6')  # Light blue background as per user preference\n",
    "    \n",
    "    # 1. PCA scatter plot\n",
    "    ax = axes[0, 0]\n",
    "    ax.set_facecolor('#E5ECF6')  # Light blue background\n",
    "    regular_pca = all_data[all_data['is_blue_zone'] == 0]\n",
    "    bz_pca = all_data[all_data['is_blue_zone'] == 1]\n",
    "    \n",
    "    if 'PC2' in all_data.columns:\n",
    "        ax.scatter(regular_pca['PC1'], regular_pca['PC2'], \n",
    "                  alpha=0.4, color='lightblue', s=20, label=f'Regular (n={len(regular_pca)})')\n",
    "        ax.scatter(bz_pca['PC1'], bz_pca['PC2'], \n",
    "                  alpha=0.8, color='red', s=40, label=f'Discovered BZ (n={len(bz_pca)})')\n",
    "        \n",
    "        ax.set_xlabel(f'PC1 ({pca.explained_variance_ratio_[0]:.1%} variance)')\n",
    "        ax.set_ylabel(f'PC2 ({pca.explained_variance_ratio_[1]:.1%} variance)')\n",
    "    else:\n",
    "        ax.hist(regular_pca['PC1'], alpha=0.4, color='lightblue', label=f'Regular (n={len(regular_pca)})', bins=20)\n",
    "        ax.hist(bz_pca['PC1'], alpha=0.8, color='red', label=f'Discovered BZ (n={len(bz_pca)})', bins=20)\n",
    "        ax.set_xlabel(f'PC1 ({pca.explained_variance_ratio_[0]:.1%} variance)')\n",
    "        ax.set_ylabel('Frequency')\n",
    "    \n",
    "    ax.set_title('PCA: Blue Zones vs Regular Locations')\n",
    "    ax.legend()\n",
    "    ax.grid(True, alpha=0.3)\n",
    "    \n",
    "    # 2. Feature contribution to PC1\n",
    "    ax = axes[0, 1]\n",
    "    ax.set_facecolor('#E5ECF6')  # Light blue background\n",
    "    pc1_loadings = pca.components_[0]\n",
    "    feature_names_short = [f.replace('_per_', '/').replace('_pct', '%').replace('_', ' ').title()[:15] for f in available_features]\n",
    "    colors = ['red' if x > 0 else 'blue' for x in pc1_loadings]\n",
    "    bars = ax.barh(feature_names_short, pc1_loadings, color=colors, alpha=0.7)\n",
    "    ax.set_xlabel('Loading')\n",
    "    ax.set_title('Feature Contributions to PC1')\n",
    "    ax.grid(True, alpha=0.3)\n",
    "    \n",
    "    # 3. Feature contribution to PC2 (if available)\n",
    "    ax = axes[1, 0]\n",
    "    ax.set_facecolor('#E5ECF6')  # Light blue background\n",
    "    if len(pca.components_) > 1:\n",
    "        pc2_loadings = pca.components_[1]\n",
    "        colors = ['red' if x > 0 else 'blue' for x in pc2_loadings]\n",
    "        bars = ax.barh(feature_names_short, pc2_loadings, color=colors, alpha=0.7)\n",
    "        ax.set_xlabel('Loading')\n",
    "        ax.set_title('Feature Contributions to PC2')\n",
    "    else:\n",
    "        ax.text(0.5, 0.5, 'PC2 not available', ha='center', va='center', transform=ax.transAxes)\n",
    "    ax.grid(True, alpha=0.3)\n",
    "    \n",
    "    # 4. Explained variance\n",
    "    ax = axes[1, 1]\n",
    "    ax.set_facecolor('#E5ECF6')  # Light blue background\n",
    "    pc_labels = [f'PC{i+1}' for i in range(len(pca.explained_variance_ratio_))]\n",
    "    ax.bar(pc_labels, pca.explained_variance_ratio_, alpha=0.7, color='green')\n",
    "    ax.set_ylabel('Explained Variance Ratio')\n",
    "    ax.set_title('Explained Variance by Principal Component')\n",
    "    ax.grid(True, alpha=0.3)\n",
    "    \n",
    "    # Add cumulative line\n",
    "    ax2 = ax.twinx()\n",
    "    ax2.plot(pc_labels, np.cumsum(pca.explained_variance_ratio_), 'ro-', linewidth=2)\n",
    "    ax2.set_ylabel('Cumulative Explained Variance', color='red')\n",
    "    ax2.tick_params(axis='y', labelcolor='red')\n",
    "    \n",
    "    plt.tight_layout()\n",
    "    plt.savefig('../outputs/figures/pca_analysis_fixed.png', dpi=150, bbox_inches='tight', facecolor='#E5ECF6')\n",
    "    plt.show()\n",
    "else:\n",
    "    print(\"PCA visualization skipped - insufficient data or features.\")"
   ]
  },
  {
   "cell_type": "markdown",
   "metadata": {},
   "source": [
    "## 5. Plotly Interactive Map with Light Blue Background"
   ]
  },
  {
   "cell_type": "code",
   "execution_count": 6,
   "metadata": {
    "execution": {
     "iopub.execute_input": "2025-09-06T20:54:56.600082Z",
     "iopub.status.busy": "2025-09-06T20:54:56.600015Z",
     "iopub.status.idle": "2025-09-06T20:54:57.144344Z",
     "shell.execute_reply": "2025-09-06T20:54:57.144059Z"
    }
   },
   "outputs": [
    {
     "data": {
      "application/vnd.plotly.v1+json": {
       "config": {
        "plotlyServerURL": "https://plot.ly"
       },
       "data": [
        {
         "lat": {
          "bdata": "MMOcFJyeJsCM5fK2WtMxQFAUTrkX+zJAlscnkXStT0CUlL0pdGY0wJD9LNHMPQbAzGb3ZsbDS8CwTQbbvSA6QEhE80MJJSZAEn1nzjViRECUc9F9HLoxQC6qBF3YQkHAJ8MEG305SsD4S7a8o/EiwGwToaJ/PivASsB3WQXXRMBoVlg55hJRQMi2IqocpE3AqpAL5a1iQUAMCldnhcwqwPy2zZVcBzVA1J4hIoKSM8C41zaj6eE2QBjZyeNTBkBAwNa6pfM5RsD4ZKs6nO4pQDBuMbox0h9AkGycyK/8RsAQxpiiOyIzwKyfLfuNlzvAqrpt2JhBPsB+oJgcR4VDwCfb9lCtVzZAyqh9ZnnfQcCMMIB12BtIQGLx3d7Ne0ZABffpaLzYRsDcVz0FxCtHQHA/t1CulhlAVJ+vtnA1RsDc8LFxzvsxwLwYZEzQdCnA0F/vaK9EO8BOZgkjgvg2wPCnt66hZBVAdKP7ISYUQsBocwdaiwlNQDA5NiTnBw1Ai1nQx6tgO0Dah2YhhVVBQBQc+2feWzZAFH6Z+25LSEAbncZrgFlLwBnPuID660zALRgQuFnfN0AVT6w15XIjwJB7AE/1xg7AfwAbqZ9SL8BGO2dF7QZLQP7oOtGTHkdAqZXP3yePPMAz4kvb9IZMQN0FvVecNC3AfGDJOx6pS0AV4SU26YdIwASo74f11TJADHGSwFZBOkB57/540u5EwG9OyJS4qyZAqCbkP1HYPsD8GBizsrIxwBaOW9oTM0lAsKodekDpR8AmI6pQBkg8wHqv/Jin+0tAEIXuwQxfFUD0NmEcKE9BwF1ood9ha0zAQHniqLW/5r8PfJEYOyFPQNj6MqY8wifAwP0RTSBYEcBeuHzME3JJQHxt7gnqUklAONXTKLHEKEC43Ml/RTcsQB7+FH8/LVFA1Oce6HwHS0DYEcWZq1I/QDD26HDjZhtA6CRJBsWbRkBEt6miUlxNQP4WNLyh40VAOpnpcf25RUAY2C/cMlkmwA==",
          "dtype": "f8"
         },
         "lon": {
          "bdata": "ZiVIkzpIZEBuADydVPVewOqP7sofp13AkCLLvRT0ZEBNgxM30RpiwNaa0ZkeAmHAlCDz+15rYkAWjTdDLfJQwFfRZQ70XFzALgRZHgfHY0D+N3a+/ftiQIzpN0z7dmTAVoogZVl6YEDLr21JHpRUwMy9a9ZEt1PAAfjbUZ4yW0A/QvH8hIBYQIOqPDc7ZFxALCoRnBFqWEBEdTo9MElhwBJwWhE4cE7AjEkEco13T8DGMOjXsGxhQHHELtvdkmXAMN8M7ygxU0AMeqF1FWNYQKiJAtvRFTrAthlWj+8VZcAAw2LK/64IQOyDWg6OIUDAPKIhAjEJY8DgEcPwHVZjQOZoEds5t2BAbuz3l0eqYUDVwb32tONZwKIRQcb40mFACKf2tF98WMCQ4hbHnTtgQEDCLuZmuz3ASNYBYrE6TcAAV3WM+Q4bQGCjzfntOmVAAJJUfnyy77/a1T/3D9dkwC5oMPz2LmTAXnCeO0KeUcB9kVd5fnBXwIEqnHex2mVA1JqoR7eLV0CAEWuhjcxHwBCXemH9wSlANmOIMDohUMDwhVXJWFxAQMDOtSn8aRFABEsr9JhOXcB0TfYkIadjQCSm2KIUylLA2O8S+MhkYcClxq1fBslVwDilP4pO3zNA0cvxw3RPYsDw876tUPVHQFRixtIEVlRAIMe8I1UwWUAOOKoNE3RewK/ph8oMFmbAXycnyLBFZsCKlYu//LRSwCR2S+5DRVFAnA50+JsYU0AYbh93KS9WQBxu7lTNXkxAYLku4qfPR8AQmyHjFEllQIwcxi3emkdASAEaRnavO0BIrd32SwVUQFwoewddL0pAoPM0Q3SqWUAekVLYQW1kQJqTQ5XwzWXA5RlYD93/ZEC2l0/E5X9SwNtkyvMdelDAuqp/xICgY0A1KNPbhiBiwB4B0m07MmDAQCuMF0+rVUDIwQ/TpUpJwOCNAJ12okBAP+ChOgPpW0Ag6+4MQ1UQQJ+emIJW/kpAirq8jdyMYUDmmEj7U0ViwA==",
          "dtype": "f8"
         },
         "marker": {
          "color": "lightblue",
          "opacity": 0.6,
          "size": 5
         },
         "mode": "markers",
         "name": "Regular Locations (n=95)",
         "text": [
          "Life Expectancy: 73.6 years",
          "Life Expectancy: 73.2 years",
          "Life Expectancy: 72.7 years",
          "Life Expectancy: 75.1 years",
          "Life Expectancy: 74.1 years",
          "Life Expectancy: 70.9 years",
          "Life Expectancy: 80.1 years",
          "Life Expectancy: 77.2 years",
          "Life Expectancy: 73.2 years",
          "Life Expectancy: 77.4 years",
          "Life Expectancy: 78.6 years",
          "Life Expectancy: 79.0 years",
          "Life Expectancy: 74.8 years",
          "Life Expectancy: 75.0 years",
          "Life Expectancy: 74.2 years",
          "Life Expectancy: 72.7 years",
          "Life Expectancy: 75.8 years",
          "Life Expectancy: 76.7 years",
          "Life Expectancy: 81.9 years",
          "Life Expectancy: 73.2 years",
          "Life Expectancy: 75.7 years",
          "Life Expectancy: 69.2 years",
          "Life Expectancy: 71.3 years",
          "Life Expectancy: 77.2 years",
          "Life Expectancy: 73.4 years",
          "Life Expectancy: 77.8 years",
          "Life Expectancy: 74.7 years",
          "Life Expectancy: 80.0 years",
          "Life Expectancy: 74.4 years",
          "Life Expectancy: 78.0 years",
          "Life Expectancy: 76.2 years",
          "Life Expectancy: 75.3 years",
          "Life Expectancy: 76.3 years",
          "Life Expectancy: 79.2 years",
          "Life Expectancy: 70.9 years",
          "Life Expectancy: 77.8 years",
          "Life Expectancy: 75.6 years",
          "Life Expectancy: 76.2 years",
          "Life Expectancy: 75.3 years",
          "Life Expectancy: 78.4 years",
          "Life Expectancy: 75.0 years",
          "Life Expectancy: 83.2 years",
          "Life Expectancy: 72.0 years",
          "Life Expectancy: 73.5 years",
          "Life Expectancy: 77.8 years",
          "Life Expectancy: 70.6 years",
          "Life Expectancy: 79.0 years",
          "Life Expectancy: 73.7 years",
          "Life Expectancy: 72.6 years",
          "Life Expectancy: 77.9 years",
          "Life Expectancy: 74.0 years",
          "Life Expectancy: 75.6 years",
          "Life Expectancy: 77.0 years",
          "Life Expectancy: 74.1 years",
          "Life Expectancy: 77.8 years",
          "Life Expectancy: 75.1 years",
          "Life Expectancy: 76.6 years",
          "Life Expectancy: 82.3 years",
          "Life Expectancy: 73.5 years",
          "Life Expectancy: 71.8 years",
          "Life Expectancy: 76.5 years",
          "Life Expectancy: 75.0 years",
          "Life Expectancy: 82.4 years",
          "Life Expectancy: 74.2 years",
          "Life Expectancy: 77.2 years",
          "Life Expectancy: 68.0 years",
          "Life Expectancy: 75.9 years",
          "Life Expectancy: 74.4 years",
          "Life Expectancy: 78.5 years",
          "Life Expectancy: 74.1 years",
          "Life Expectancy: 75.2 years",
          "Life Expectancy: 76.0 years",
          "Life Expectancy: 80.1 years",
          "Life Expectancy: 69.4 years",
          "Life Expectancy: 74.1 years",
          "Life Expectancy: 73.8 years",
          "Life Expectancy: 80.1 years",
          "Life Expectancy: 77.9 years",
          "Life Expectancy: 70.3 years",
          "Life Expectancy: 78.3 years",
          "Life Expectancy: 68.1 years",
          "Life Expectancy: 73.5 years",
          "Life Expectancy: 71.2 years",
          "Life Expectancy: 75.5 years",
          "Life Expectancy: 75.8 years",
          "Life Expectancy: 71.7 years",
          "Life Expectancy: 75.3 years",
          "Life Expectancy: 73.6 years",
          "Life Expectancy: 72.6 years",
          "Life Expectancy: 80.5 years",
          "Life Expectancy: 76.3 years",
          "Life Expectancy: 77.9 years",
          "Life Expectancy: 73.2 years",
          "Life Expectancy: 70.5 years",
          "Life Expectancy: 78.1 years"
         ],
         "type": "scattergeo"
        },
        {
         "lat": {
          "bdata": "zczMzMzMQkAAAAAAAABBQGZmZmZmZiRAzczMzMxMOkDNzMzMzAxEQA==",
          "dtype": "f8"
         },
         "lon": {
          "bdata": "MzMzMzMzOkAzMzMzM1NdwJqZmZmZWVXAmpmZmZn5X0DNzMzMzMwiQA==",
          "dtype": "f8"
         },
         "marker": {
          "color": "red",
          "opacity": 0.8,
          "size": 8
         },
         "mode": "markers",
         "name": "Discovered Blue Zones (n=5)",
         "text": [
          "Life Expectancy: 77.0 years",
          "Life Expectancy: 80.0 years",
          "Life Expectancy: 77.9 years",
          "Life Expectancy: 77.9 years",
          "Life Expectancy: 78.3 years"
         ],
         "type": "scattergeo"
        },
        {
         "lat": {
          "bdata": "zczMzMxMOkDNzMzMzAxEQGZmZmZmZiRAzczMzMzMQkAAAAAAAABBQA==",
          "dtype": "f8"
         },
         "lon": {
          "bdata": "mpmZmZn5X0DNzMzMzMwiQJqZmZmZWVXAMzMzMzMzOkAzMzMzM1NdwA==",
          "dtype": "f8"
         },
         "marker": {
          "color": "orange",
          "opacity": 1.0,
          "size": 12,
          "symbol": "star"
         },
         "mode": "markers",
         "name": "Traditional Blue Zones",
         "text": [
          "Okinawa, Japan: 82.3 years",
          "Sardinia, Italy: 82.0 years",
          "Nicoya, Costa Rica: 82.5 years",
          "Ikaria, Greece: 80.9 years",
          "Loma Linda, USA: 81.2 years"
         ],
         "type": "scattergeo"
        }
       ],
       "layout": {
        "geo": {
         "bgcolor": "#E5ECF6",
         "coastlinecolor": "rgb(204, 204, 204)",
         "landcolor": "rgb(243, 243, 243)",
         "projection": {
          "type": "natural earth"
         },
         "showland": true
        },
        "height": 600,
        "paper_bgcolor": "#E5ECF6",
        "plot_bgcolor": "#E5ECF6",
        "template": {
         "data": {
          "bar": [
           {
            "error_x": {
             "color": "#2a3f5f"
            },
            "error_y": {
             "color": "#2a3f5f"
            },
            "marker": {
             "line": {
              "color": "#E5ECF6",
              "width": 0.5
             },
             "pattern": {
              "fillmode": "overlay",
              "size": 10,
              "solidity": 0.2
             }
            },
            "type": "bar"
           }
          ],
          "barpolar": [
           {
            "marker": {
             "line": {
              "color": "#E5ECF6",
              "width": 0.5
             },
             "pattern": {
              "fillmode": "overlay",
              "size": 10,
              "solidity": 0.2
             }
            },
            "type": "barpolar"
           }
          ],
          "carpet": [
           {
            "aaxis": {
             "endlinecolor": "#2a3f5f",
             "gridcolor": "white",
             "linecolor": "white",
             "minorgridcolor": "white",
             "startlinecolor": "#2a3f5f"
            },
            "baxis": {
             "endlinecolor": "#2a3f5f",
             "gridcolor": "white",
             "linecolor": "white",
             "minorgridcolor": "white",
             "startlinecolor": "#2a3f5f"
            },
            "type": "carpet"
           }
          ],
          "choropleth": [
           {
            "colorbar": {
             "outlinewidth": 0,
             "ticks": ""
            },
            "type": "choropleth"
           }
          ],
          "contour": [
           {
            "colorbar": {
             "outlinewidth": 0,
             "ticks": ""
            },
            "colorscale": [
             [
              0.0,
              "#0d0887"
             ],
             [
              0.1111111111111111,
              "#46039f"
             ],
             [
              0.2222222222222222,
              "#7201a8"
             ],
             [
              0.3333333333333333,
              "#9c179e"
             ],
             [
              0.4444444444444444,
              "#bd3786"
             ],
             [
              0.5555555555555556,
              "#d8576b"
             ],
             [
              0.6666666666666666,
              "#ed7953"
             ],
             [
              0.7777777777777778,
              "#fb9f3a"
             ],
             [
              0.8888888888888888,
              "#fdca26"
             ],
             [
              1.0,
              "#f0f921"
             ]
            ],
            "type": "contour"
           }
          ],
          "contourcarpet": [
           {
            "colorbar": {
             "outlinewidth": 0,
             "ticks": ""
            },
            "type": "contourcarpet"
           }
          ],
          "heatmap": [
           {
            "colorbar": {
             "outlinewidth": 0,
             "ticks": ""
            },
            "colorscale": [
             [
              0.0,
              "#0d0887"
             ],
             [
              0.1111111111111111,
              "#46039f"
             ],
             [
              0.2222222222222222,
              "#7201a8"
             ],
             [
              0.3333333333333333,
              "#9c179e"
             ],
             [
              0.4444444444444444,
              "#bd3786"
             ],
             [
              0.5555555555555556,
              "#d8576b"
             ],
             [
              0.6666666666666666,
              "#ed7953"
             ],
             [
              0.7777777777777778,
              "#fb9f3a"
             ],
             [
              0.8888888888888888,
              "#fdca26"
             ],
             [
              1.0,
              "#f0f921"
             ]
            ],
            "type": "heatmap"
           }
          ],
          "histogram": [
           {
            "marker": {
             "pattern": {
              "fillmode": "overlay",
              "size": 10,
              "solidity": 0.2
             }
            },
            "type": "histogram"
           }
          ],
          "histogram2d": [
           {
            "colorbar": {
             "outlinewidth": 0,
             "ticks": ""
            },
            "colorscale": [
             [
              0.0,
              "#0d0887"
             ],
             [
              0.1111111111111111,
              "#46039f"
             ],
             [
              0.2222222222222222,
              "#7201a8"
             ],
             [
              0.3333333333333333,
              "#9c179e"
             ],
             [
              0.4444444444444444,
              "#bd3786"
             ],
             [
              0.5555555555555556,
              "#d8576b"
             ],
             [
              0.6666666666666666,
              "#ed7953"
             ],
             [
              0.7777777777777778,
              "#fb9f3a"
             ],
             [
              0.8888888888888888,
              "#fdca26"
             ],
             [
              1.0,
              "#f0f921"
             ]
            ],
            "type": "histogram2d"
           }
          ],
          "histogram2dcontour": [
           {
            "colorbar": {
             "outlinewidth": 0,
             "ticks": ""
            },
            "colorscale": [
             [
              0.0,
              "#0d0887"
             ],
             [
              0.1111111111111111,
              "#46039f"
             ],
             [
              0.2222222222222222,
              "#7201a8"
             ],
             [
              0.3333333333333333,
              "#9c179e"
             ],
             [
              0.4444444444444444,
              "#bd3786"
             ],
             [
              0.5555555555555556,
              "#d8576b"
             ],
             [
              0.6666666666666666,
              "#ed7953"
             ],
             [
              0.7777777777777778,
              "#fb9f3a"
             ],
             [
              0.8888888888888888,
              "#fdca26"
             ],
             [
              1.0,
              "#f0f921"
             ]
            ],
            "type": "histogram2dcontour"
           }
          ],
          "mesh3d": [
           {
            "colorbar": {
             "outlinewidth": 0,
             "ticks": ""
            },
            "type": "mesh3d"
           }
          ],
          "parcoords": [
           {
            "line": {
             "colorbar": {
              "outlinewidth": 0,
              "ticks": ""
             }
            },
            "type": "parcoords"
           }
          ],
          "pie": [
           {
            "automargin": true,
            "type": "pie"
           }
          ],
          "scatter": [
           {
            "fillpattern": {
             "fillmode": "overlay",
             "size": 10,
             "solidity": 0.2
            },
            "type": "scatter"
           }
          ],
          "scatter3d": [
           {
            "line": {
             "colorbar": {
              "outlinewidth": 0,
              "ticks": ""
             }
            },
            "marker": {
             "colorbar": {
              "outlinewidth": 0,
              "ticks": ""
             }
            },
            "type": "scatter3d"
           }
          ],
          "scattercarpet": [
           {
            "marker": {
             "colorbar": {
              "outlinewidth": 0,
              "ticks": ""
             }
            },
            "type": "scattercarpet"
           }
          ],
          "scattergeo": [
           {
            "marker": {
             "colorbar": {
              "outlinewidth": 0,
              "ticks": ""
             }
            },
            "type": "scattergeo"
           }
          ],
          "scattergl": [
           {
            "marker": {
             "colorbar": {
              "outlinewidth": 0,
              "ticks": ""
             }
            },
            "type": "scattergl"
           }
          ],
          "scattermap": [
           {
            "marker": {
             "colorbar": {
              "outlinewidth": 0,
              "ticks": ""
             }
            },
            "type": "scattermap"
           }
          ],
          "scattermapbox": [
           {
            "marker": {
             "colorbar": {
              "outlinewidth": 0,
              "ticks": ""
             }
            },
            "type": "scattermapbox"
           }
          ],
          "scatterpolar": [
           {
            "marker": {
             "colorbar": {
              "outlinewidth": 0,
              "ticks": ""
             }
            },
            "type": "scatterpolar"
           }
          ],
          "scatterpolargl": [
           {
            "marker": {
             "colorbar": {
              "outlinewidth": 0,
              "ticks": ""
             }
            },
            "type": "scatterpolargl"
           }
          ],
          "scatterternary": [
           {
            "marker": {
             "colorbar": {
              "outlinewidth": 0,
              "ticks": ""
             }
            },
            "type": "scatterternary"
           }
          ],
          "surface": [
           {
            "colorbar": {
             "outlinewidth": 0,
             "ticks": ""
            },
            "colorscale": [
             [
              0.0,
              "#0d0887"
             ],
             [
              0.1111111111111111,
              "#46039f"
             ],
             [
              0.2222222222222222,
              "#7201a8"
             ],
             [
              0.3333333333333333,
              "#9c179e"
             ],
             [
              0.4444444444444444,
              "#bd3786"
             ],
             [
              0.5555555555555556,
              "#d8576b"
             ],
             [
              0.6666666666666666,
              "#ed7953"
             ],
             [
              0.7777777777777778,
              "#fb9f3a"
             ],
             [
              0.8888888888888888,
              "#fdca26"
             ],
             [
              1.0,
              "#f0f921"
             ]
            ],
            "type": "surface"
           }
          ],
          "table": [
           {
            "cells": {
             "fill": {
              "color": "#EBF0F8"
             },
             "line": {
              "color": "white"
             }
            },
            "header": {
             "fill": {
              "color": "#C8D4E3"
             },
             "line": {
              "color": "white"
             }
            },
            "type": "table"
           }
          ]
         },
         "layout": {
          "annotationdefaults": {
           "arrowcolor": "#2a3f5f",
           "arrowhead": 0,
           "arrowwidth": 1
          },
          "autotypenumbers": "strict",
          "coloraxis": {
           "colorbar": {
            "outlinewidth": 0,
            "ticks": ""
           }
          },
          "colorscale": {
           "diverging": [
            [
             0,
             "#8e0152"
            ],
            [
             0.1,
             "#c51b7d"
            ],
            [
             0.2,
             "#de77ae"
            ],
            [
             0.3,
             "#f1b6da"
            ],
            [
             0.4,
             "#fde0ef"
            ],
            [
             0.5,
             "#f7f7f7"
            ],
            [
             0.6,
             "#e6f5d0"
            ],
            [
             0.7,
             "#b8e186"
            ],
            [
             0.8,
             "#7fbc41"
            ],
            [
             0.9,
             "#4d9221"
            ],
            [
             1,
             "#276419"
            ]
           ],
           "sequential": [
            [
             0.0,
             "#0d0887"
            ],
            [
             0.1111111111111111,
             "#46039f"
            ],
            [
             0.2222222222222222,
             "#7201a8"
            ],
            [
             0.3333333333333333,
             "#9c179e"
            ],
            [
             0.4444444444444444,
             "#bd3786"
            ],
            [
             0.5555555555555556,
             "#d8576b"
            ],
            [
             0.6666666666666666,
             "#ed7953"
            ],
            [
             0.7777777777777778,
             "#fb9f3a"
            ],
            [
             0.8888888888888888,
             "#fdca26"
            ],
            [
             1.0,
             "#f0f921"
            ]
           ],
           "sequentialminus": [
            [
             0.0,
             "#0d0887"
            ],
            [
             0.1111111111111111,
             "#46039f"
            ],
            [
             0.2222222222222222,
             "#7201a8"
            ],
            [
             0.3333333333333333,
             "#9c179e"
            ],
            [
             0.4444444444444444,
             "#bd3786"
            ],
            [
             0.5555555555555556,
             "#d8576b"
            ],
            [
             0.6666666666666666,
             "#ed7953"
            ],
            [
             0.7777777777777778,
             "#fb9f3a"
            ],
            [
             0.8888888888888888,
             "#fdca26"
            ],
            [
             1.0,
             "#f0f921"
            ]
           ]
          },
          "colorway": [
           "#636efa",
           "#EF553B",
           "#00cc96",
           "#ab63fa",
           "#FFA15A",
           "#19d3f3",
           "#FF6692",
           "#B6E880",
           "#FF97FF",
           "#FECB52"
          ],
          "font": {
           "color": "#2a3f5f"
          },
          "geo": {
           "bgcolor": "white",
           "lakecolor": "white",
           "landcolor": "#E5ECF6",
           "showlakes": true,
           "showland": true,
           "subunitcolor": "white"
          },
          "hoverlabel": {
           "align": "left"
          },
          "hovermode": "closest",
          "mapbox": {
           "style": "light"
          },
          "paper_bgcolor": "white",
          "plot_bgcolor": "#E5ECF6",
          "polar": {
           "angularaxis": {
            "gridcolor": "white",
            "linecolor": "white",
            "ticks": ""
           },
           "bgcolor": "#E5ECF6",
           "radialaxis": {
            "gridcolor": "white",
            "linecolor": "white",
            "ticks": ""
           }
          },
          "scene": {
           "xaxis": {
            "backgroundcolor": "#E5ECF6",
            "gridcolor": "white",
            "gridwidth": 2,
            "linecolor": "white",
            "showbackground": true,
            "ticks": "",
            "zerolinecolor": "white"
           },
           "yaxis": {
            "backgroundcolor": "#E5ECF6",
            "gridcolor": "white",
            "gridwidth": 2,
            "linecolor": "white",
            "showbackground": true,
            "ticks": "",
            "zerolinecolor": "white"
           },
           "zaxis": {
            "backgroundcolor": "#E5ECF6",
            "gridcolor": "white",
            "gridwidth": 2,
            "linecolor": "white",
            "showbackground": true,
            "ticks": "",
            "zerolinecolor": "white"
           }
          },
          "shapedefaults": {
           "line": {
            "color": "#2a3f5f"
           }
          },
          "ternary": {
           "aaxis": {
            "gridcolor": "white",
            "linecolor": "white",
            "ticks": ""
           },
           "baxis": {
            "gridcolor": "white",
            "linecolor": "white",
            "ticks": ""
           },
           "bgcolor": "#E5ECF6",
           "caxis": {
            "gridcolor": "white",
            "linecolor": "white",
            "ticks": ""
           }
          },
          "title": {
           "x": 0.05
          },
          "xaxis": {
           "automargin": true,
           "gridcolor": "white",
           "linecolor": "white",
           "ticks": "",
           "title": {
            "standoff": 15
           },
           "zerolinecolor": "white",
           "zerolinewidth": 2
          },
          "yaxis": {
           "automargin": true,
           "gridcolor": "white",
           "linecolor": "white",
           "ticks": "",
           "title": {
            "standoff": 15
           },
           "zerolinecolor": "white",
           "zerolinewidth": 2
          }
         }
        },
        "title": {
         "text": "Global Blue Zones Distribution",
         "x": 0.5,
         "xanchor": "center"
        },
        "width": 900
       }
      }
     },
     "metadata": {},
     "output_type": "display_data"
    }
   ],
   "source": [
    "# Create interactive map with light blue background as per user preference\n",
    "fig = go.Figure()\n",
    "\n",
    "# Regular locations (sample for performance)\n",
    "if len(regular_locations) > 1000:\n",
    "    regular_sample = regular_locations.sample(n=1000, random_state=42)\n",
    "else:\n",
    "    regular_sample = regular_locations\n",
    "\n",
    "fig.add_trace(go.Scattergeo(\n",
    "    lon=regular_sample['longitude'],\n",
    "    lat=regular_sample['latitude'],\n",
    "    text=regular_sample.apply(lambda x: f\"Life Expectancy: {x['life_expectancy']:.1f} years\", axis=1),\n",
    "    mode='markers',\n",
    "    marker=dict(\n",
    "        size=5,\n",
    "        color='lightblue',  # Light blue for regular locations\n",
    "        opacity=0.6\n",
    "    ),\n",
    "    name=f'Regular Locations (n={len(regular_locations)})'\n",
    "))\n",
    "\n",
    "# Discovered blue zones\n",
    "if len(discovered_bz) > 0:\n",
    "    fig.add_trace(go.Scattergeo(\n",
    "        lon=discovered_bz['longitude'],\n",
    "        lat=discovered_bz['latitude'],\n",
    "        text=discovered_bz.apply(lambda x: f\"Life Expectancy: {x['life_expectancy']:.1f} years\", axis=1),\n",
    "        mode='markers',\n",
    "        marker=dict(\n",
    "            size=8,\n",
    "            color='red',\n",
    "            opacity=0.8\n",
    "        ),\n",
    "        name=f'Discovered Blue Zones (n={len(discovered_bz)})'\n",
    "    ))\n",
    "\n",
    "# Traditional blue zones\n",
    "fig.add_trace(go.Scattergeo(\n",
    "    lon=traditional_bz['longitude'],\n",
    "    lat=traditional_bz['latitude'],\n",
    "    text=traditional_bz.apply(lambda x: f\"{x['location']}: {x['life_expectancy']:.1f} years\", axis=1),\n",
    "    mode='markers',\n",
    "    marker=dict(\n",
    "        size=12,\n",
    "        color='orange',\n",
    "        symbol='star',\n",
    "        opacity=1.0\n",
    "    ),\n",
    "    name='Traditional Blue Zones'\n",
    "))\n",
    "\n",
    "fig.update_layout(\n",
    "    title={\n",
    "        'text': 'Global Blue Zones Distribution',\n",
    "        'x': 0.5,\n",
    "        'xanchor': 'center'\n",
    "    },\n",
    "    geo=dict(\n",
    "        projection_type='natural earth',\n",
    "        showland=True,\n",
    "        landcolor='rgb(243, 243, 243)',\n",
    "        coastlinecolor='rgb(204, 204, 204)',\n",
    "        bgcolor='#E5ECF6'  # Light blue background as per user preference\n",
    "    ),\n",
    "    plot_bgcolor='#E5ECF6',  # Light blue background\n",
    "    paper_bgcolor='#E5ECF6',  # Light blue background\n",
    "    width=900,\n",
    "    height=600\n",
    ")\n",
    "\n",
    "fig.show()"
   ]
  },
  {
   "cell_type": "markdown",
   "metadata": {},
   "source": [
    "## 6. Summary and Conclusions"
   ]
  },
  {
   "cell_type": "code",
   "execution_count": 7,
   "metadata": {
    "execution": {
     "iopub.execute_input": "2025-09-06T20:54:57.145071Z",
     "iopub.status.busy": "2025-09-06T20:54:57.144998Z",
     "iopub.status.idle": "2025-09-06T20:54:57.147890Z",
     "shell.execute_reply": "2025-09-06T20:54:57.147701Z"
    }
   },
   "outputs": [
    {
     "name": "stdout",
     "output_type": "stream",
     "text": [
      "SUMMARY OF BLUE ZONE ANALYSIS\n",
      "==================================================\n",
      "\n",
      "1. DATA OVERVIEW:\n",
      "   - Total locations analyzed: 100\n",
      "   - Discovered blue zones: 5\n",
      "   - Regular locations: 95\n",
      "   - Traditional blue zones (reference): 5\n",
      "\n",
      "2. LIFE EXPECTANCY FINDINGS:\n",
      "   - Discovered blue zones average: 78.2 years\n",
      "   - Regular locations average: 75.4 years\n",
      "   - Traditional blue zones average: 81.8 years\n",
      "   - Difference (discovered vs regular): 2.9 years\n",
      "\n",
      "3. PCA INSIGHTS:\n",
      "   - Features analyzed: gdp_per_capita, walkability_score, greenspace_pct, cvd_mortality, population_density_log, temperature_mean, elevation\n",
      "   - Total variance explained by first 3 components: 51.1%\n",
      "   - Most important features identified through component loadings\n",
      "\n",
      "4. VISUALIZATION FEATURES:\n",
      "   - Light blue background applied to all charts (user preference)\n",
      "   - Actual column names used as labels (user preference)\n",
      "   - Interactive Plotly maps with geographic distribution\n",
      "   - Color coding: Light blue (regular), Red (discovered), Orange (traditional)\n",
      "\n",
      "5. TECHNICAL NOTES:\n",
      "   - Fixed missing column issues from original notebook\n",
      "   - Used only available dataset columns for analysis\n",
      "   - Maintained user preferences for styling and labeling\n",
      "   - All visualizations use consistent color scheme\n",
      "\n",
      "Analysis completed successfully!\n"
     ]
    }
   ],
   "source": [
    "# Summary of findings\n",
    "print(\"SUMMARY OF BLUE ZONE ANALYSIS\")\n",
    "print(\"=\" * 50)\n",
    "\n",
    "print(f\"\\n1. DATA OVERVIEW:\")\n",
    "print(f\"   - Total locations analyzed: {len(df):,}\")\n",
    "print(f\"   - Discovered blue zones: {len(discovered_bz)}\")\n",
    "print(f\"   - Regular locations: {len(regular_locations)}\")\n",
    "print(f\"   - Traditional blue zones (reference): {len(traditional_bz)}\")\n",
    "\n",
    "print(f\"\\n2. LIFE EXPECTANCY FINDINGS:\")\n",
    "print(f\"   - Discovered blue zones average: {discovered_bz['life_expectancy'].mean():.1f} years\")\n",
    "print(f\"   - Regular locations average: {regular_locations['life_expectancy'].mean():.1f} years\")\n",
    "print(f\"   - Traditional blue zones average: {traditional_bz['life_expectancy'].mean():.1f} years\")\n",
    "print(f\"   - Difference (discovered vs regular): {discovered_bz['life_expectancy'].mean() - regular_locations['life_expectancy'].mean():.1f} years\")\n",
    "\n",
    "if 'all_data' in locals() and len(available_features) > 0:\n",
    "    print(f\"\\n3. PCA INSIGHTS:\")\n",
    "    print(f\"   - Features analyzed: {', '.join(available_features)}\")\n",
    "    print(f\"   - Total variance explained by first 3 components: {pca.explained_variance_ratio_.sum()*100:.1f}%\")\n",
    "    print(f\"   - Most important features identified through component loadings\")\n",
    "\n",
    "print(f\"\\n4. VISUALIZATION FEATURES:\")\n",
    "print(f\"   - Light blue background applied to all charts (user preference)\")\n",
    "print(f\"   - Actual column names used as labels (user preference)\")\n",
    "print(f\"   - Interactive Plotly maps with geographic distribution\")\n",
    "print(f\"   - Color coding: Light blue (regular), Red (discovered), Orange (traditional)\")\n",
    "\n",
    "print(f\"\\n5. TECHNICAL NOTES:\")\n",
    "print(f\"   - Fixed missing column issues from original notebook\")\n",
    "print(f\"   - Used only available dataset columns for analysis\")\n",
    "print(f\"   - Maintained user preferences for styling and labeling\")\n",
    "print(f\"   - All visualizations use consistent color scheme\")\n",
    "\n",
    "print(\"\\nAnalysis completed successfully!\")"
   ]
  }
 ],
 "metadata": {
  "kernelspec": {
   "display_name": "Python 3",
   "language": "python",
   "name": "python3"
  },
  "language_info": {
   "codemirror_mode": {
    "name": "ipython",
    "version": 3
   },
   "file_extension": ".py",
   "mimetype": "text/x-python",
   "name": "python",
   "nbconvert_exporter": "python",
   "pygments_lexer": "ipython3",
   "version": "3.11.13"
  }
 },
 "nbformat": 4,
 "nbformat_minor": 4
}
